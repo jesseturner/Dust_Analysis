{
 "cells": [
  {
   "cell_type": "code",
   "execution_count": null,
   "metadata": {},
   "outputs": [
    {
     "ename": "",
     "evalue": "",
     "output_type": "error",
     "traceback": [
      "\u001b[1;31mJupyter cannot be started. Error attempting to locate Jupyter: Running cells with 'Python 3.4.9' requires the notebook and jupyter package.\n",
      "\u001b[1;31mRun the following command to install 'jupyter and notebook' into the Python environment. \n",
      "\u001b[1;31mCommand: 'python -m pip install jupyter notebook -U\n",
      "\u001b[1;31mor\n",
      "\u001b[1;31mconda install jupyter notebook -U'\n",
      "\u001b[1;31mClick <a href='https://aka.ms/installJupyterForVSCode'>here</a> for more info."
     ]
    }
   ],
   "source": [
    "import os\n",
    "import imageio\n",
    "from PIL import Image"
   ]
  },
  {
   "cell_type": "code",
   "execution_count": null,
   "metadata": {},
   "outputs": [
    {
     "name": "stdout",
     "output_type": "stream",
     "text": [
      "Animation saved as satellite_btd_2025_01_30_animation.gif\n"
     ]
    }
   ],
   "source": [
    "directory = \"swd_images\"\n",
    "starts_with = \"2025_01_30\"\n",
    "png_files = [f for f in os.listdir(directory) if f.startswith(starts_with) and f.endswith(\".png\")]\n",
    "\n",
    "png_files.sort()\n",
    "\n",
    "images = []\n",
    "\n",
    "for file in png_files:\n",
    "    img_path = os.path.join(directory, file)\n",
    "    img = Image.open(img_path)\n",
    "    images.append(img)\n",
    "\n",
    "output_file = starts_with+\"_animation.gif\"\n",
    "images[0].save(output_file, save_all=True, append_images=images[1:], duration=500, loop=0)\n",
    "\n",
    "print(f\"Animation saved as {output_file}\")\n"
   ]
  },
  {
   "cell_type": "code",
   "execution_count": null,
   "metadata": {},
   "outputs": [],
   "source": []
  }
 ],
 "metadata": {
  "kernelspec": {
   "display_name": "noise_reduction",
   "language": "python",
   "name": "python3"
  },
  "language_info": {
   "codemirror_mode": {
    "name": "ipython",
    "version": 3
   },
   "file_extension": ".py",
   "mimetype": "text/x-python",
   "name": "python",
   "nbconvert_exporter": "python",
   "pygments_lexer": "ipython3",
   "version": "3.12.8"
  }
 },
 "nbformat": 4,
 "nbformat_minor": 2
}
