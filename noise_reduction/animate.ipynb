{
 "cells": [
  {
   "cell_type": "code",
   "execution_count": 1,
   "metadata": {},
   "outputs": [],
   "source": [
    "import os\n",
    "import imageio\n",
    "from PIL import Image"
   ]
  },
  {
   "cell_type": "code",
   "execution_count": 2,
   "metadata": {},
   "outputs": [
    {
     "name": "stdout",
     "output_type": "stream",
     "text": [
      "Animation saved as satellite_btd_2025_01_30_animation.gif\n"
     ]
    }
   ],
   "source": [
    "directory = \"swd_images\"\n",
    "starts_with = \"satellite_btd_2025_01_30\"\n",
    "png_files = [f for f in os.listdir(directory) if f.startswith(starts_with) and f.endswith(\".png\")]\n",
    "\n",
    "png_files.sort()\n",
    "\n",
    "images = []\n",
    "\n",
    "for file in png_files:\n",
    "    img_path = os.path.join(directory, file)\n",
    "    img = Image.open(img_path)\n",
    "    images.append(img)\n",
    "\n",
    "output_file = starts_with+\"_animation.gif\"\n",
    "images[0].save(output_file, save_all=True, append_images=images[1:], duration=500, loop=0)\n",
    "\n",
    "print(f\"Animation saved as {output_file}\")\n"
   ]
  },
  {
   "cell_type": "code",
   "execution_count": null,
   "metadata": {},
   "outputs": [],
   "source": []
  }
 ],
 "metadata": {
  "kernelspec": {
   "display_name": "FLC",
   "language": "python",
   "name": "python3"
  },
  "language_info": {
   "codemirror_mode": {
    "name": "ipython",
    "version": 3
   },
   "file_extension": ".py",
   "mimetype": "text/x-python",
   "name": "python",
   "nbconvert_exporter": "python",
   "pygments_lexer": "ipython3",
   "version": "3.10.11"
  }
 },
 "nbformat": 4,
 "nbformat_minor": 2
}
