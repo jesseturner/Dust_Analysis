{
 "cells": [
  {
   "cell_type": "code",
   "execution_count": 1,
   "metadata": {},
   "outputs": [],
   "source": [
    "import os\n",
    "import xarray as xr\n",
    "import matplotlib.pyplot as plt\n",
    "import cartopy.crs as ccrs\n",
    "import cartopy.feature as feature\n",
    "from matplotlib.colors import LinearSegmentedColormap, TwoSlopeNorm\n",
    "import numpy as np"
   ]
  },
  {
   "cell_type": "code",
   "execution_count": 2,
   "metadata": {},
   "outputs": [],
   "source": [
    "directory = \"swd_files\"\n",
    "file_paths = [os.path.join(directory, f) for f in os.listdir(directory) if f.endswith(\".nc\")]\n",
    "swd_arrays = [xr.open_dataarray(file) for file in file_paths]"
   ]
  },
  {
   "cell_type": "code",
   "execution_count": 3,
   "metadata": {},
   "outputs": [],
   "source": [
    "swd_climatology_path = \"swd_climatology_files/2024_01_08_14Z-2024_01_08_23Z.nc\"\n",
    "swd_climatology = xr.open_dataarray(swd_climatology_path)\n",
    "\n",
    "#--- Filter to only positive values\n",
    "swd_climatology_pos = swd_climatology.where(swd_climatology > 0, other=np.nan)"
   ]
  },
  {
   "cell_type": "code",
   "execution_count": 4,
   "metadata": {},
   "outputs": [
    {
     "name": "stderr",
     "output_type": "stream",
     "text": [
      "/var/folders/pd/x01_y6d52zj47w6_m5_h_8f80000gr/T/ipykernel_57935/1504723129.py:11: SerializationWarning: saving variable y with floating point data as an integer dtype without any _FillValue to use for NaNs\n",
      "  result.to_netcdf(output_filename)\n",
      "/var/folders/pd/x01_y6d52zj47w6_m5_h_8f80000gr/T/ipykernel_57935/1504723129.py:11: SerializationWarning: saving variable x with floating point data as an integer dtype without any _FillValue to use for NaNs\n",
      "  result.to_netcdf(output_filename)\n",
      "/var/folders/pd/x01_y6d52zj47w6_m5_h_8f80000gr/T/ipykernel_57935/1504723129.py:11: SerializationWarning: saving variable y with floating point data as an integer dtype without any _FillValue to use for NaNs\n",
      "  result.to_netcdf(output_filename)\n",
      "/var/folders/pd/x01_y6d52zj47w6_m5_h_8f80000gr/T/ipykernel_57935/1504723129.py:11: SerializationWarning: saving variable x with floating point data as an integer dtype without any _FillValue to use for NaNs\n",
      "  result.to_netcdf(output_filename)\n",
      "/var/folders/pd/x01_y6d52zj47w6_m5_h_8f80000gr/T/ipykernel_57935/1504723129.py:11: SerializationWarning: saving variable y with floating point data as an integer dtype without any _FillValue to use for NaNs\n",
      "  result.to_netcdf(output_filename)\n",
      "/var/folders/pd/x01_y6d52zj47w6_m5_h_8f80000gr/T/ipykernel_57935/1504723129.py:11: SerializationWarning: saving variable x with floating point data as an integer dtype without any _FillValue to use for NaNs\n",
      "  result.to_netcdf(output_filename)\n",
      "/var/folders/pd/x01_y6d52zj47w6_m5_h_8f80000gr/T/ipykernel_57935/1504723129.py:11: SerializationWarning: saving variable y with floating point data as an integer dtype without any _FillValue to use for NaNs\n",
      "  result.to_netcdf(output_filename)\n",
      "/var/folders/pd/x01_y6d52zj47w6_m5_h_8f80000gr/T/ipykernel_57935/1504723129.py:11: SerializationWarning: saving variable x with floating point data as an integer dtype without any _FillValue to use for NaNs\n",
      "  result.to_netcdf(output_filename)\n",
      "/var/folders/pd/x01_y6d52zj47w6_m5_h_8f80000gr/T/ipykernel_57935/1504723129.py:11: SerializationWarning: saving variable y with floating point data as an integer dtype without any _FillValue to use for NaNs\n",
      "  result.to_netcdf(output_filename)\n",
      "/var/folders/pd/x01_y6d52zj47w6_m5_h_8f80000gr/T/ipykernel_57935/1504723129.py:11: SerializationWarning: saving variable x with floating point data as an integer dtype without any _FillValue to use for NaNs\n",
      "  result.to_netcdf(output_filename)\n",
      "/var/folders/pd/x01_y6d52zj47w6_m5_h_8f80000gr/T/ipykernel_57935/1504723129.py:11: SerializationWarning: saving variable y with floating point data as an integer dtype without any _FillValue to use for NaNs\n",
      "  result.to_netcdf(output_filename)\n",
      "/var/folders/pd/x01_y6d52zj47w6_m5_h_8f80000gr/T/ipykernel_57935/1504723129.py:11: SerializationWarning: saving variable x with floating point data as an integer dtype without any _FillValue to use for NaNs\n",
      "  result.to_netcdf(output_filename)\n",
      "/var/folders/pd/x01_y6d52zj47w6_m5_h_8f80000gr/T/ipykernel_57935/1504723129.py:11: SerializationWarning: saving variable y with floating point data as an integer dtype without any _FillValue to use for NaNs\n",
      "  result.to_netcdf(output_filename)\n",
      "/var/folders/pd/x01_y6d52zj47w6_m5_h_8f80000gr/T/ipykernel_57935/1504723129.py:11: SerializationWarning: saving variable x with floating point data as an integer dtype without any _FillValue to use for NaNs\n",
      "  result.to_netcdf(output_filename)\n"
     ]
    },
    {
     "name": "stdout",
     "output_type": "stream",
     "text": [
      "Saved: swd_file_clim_diff/result_2024_01_08_16Z.nc\n",
      "Saved: swd_file_clim_diff/result_2024_01_08_17Z.nc\n",
      "Saved: swd_file_clim_diff/result_2024_01_08_15Z.nc\n",
      "Saved: swd_file_clim_diff/result_2024_01_08_14Z.nc\n",
      "Saved: swd_file_clim_diff/result_2024_01_08_19Z.nc\n",
      "Saved: swd_file_clim_diff/result_2024_01_08_18Z.nc\n",
      "Saved: swd_file_clim_diff/result_2024_01_08_23Z.nc\n",
      "Saved: swd_file_clim_diff/result_2024_01_08_22Z.nc\n",
      "Saved: swd_file_clim_diff/result_2024_01_08_20Z.nc\n",
      "Saved: swd_file_clim_diff/result_2024_01_08_21Z.nc\n"
     ]
    },
    {
     "name": "stderr",
     "output_type": "stream",
     "text": [
      "/var/folders/pd/x01_y6d52zj47w6_m5_h_8f80000gr/T/ipykernel_57935/1504723129.py:11: SerializationWarning: saving variable y with floating point data as an integer dtype without any _FillValue to use for NaNs\n",
      "  result.to_netcdf(output_filename)\n",
      "/var/folders/pd/x01_y6d52zj47w6_m5_h_8f80000gr/T/ipykernel_57935/1504723129.py:11: SerializationWarning: saving variable x with floating point data as an integer dtype without any _FillValue to use for NaNs\n",
      "  result.to_netcdf(output_filename)\n",
      "/var/folders/pd/x01_y6d52zj47w6_m5_h_8f80000gr/T/ipykernel_57935/1504723129.py:11: SerializationWarning: saving variable y with floating point data as an integer dtype without any _FillValue to use for NaNs\n",
      "  result.to_netcdf(output_filename)\n",
      "/var/folders/pd/x01_y6d52zj47w6_m5_h_8f80000gr/T/ipykernel_57935/1504723129.py:11: SerializationWarning: saving variable x with floating point data as an integer dtype without any _FillValue to use for NaNs\n",
      "  result.to_netcdf(output_filename)\n",
      "/var/folders/pd/x01_y6d52zj47w6_m5_h_8f80000gr/T/ipykernel_57935/1504723129.py:11: SerializationWarning: saving variable y with floating point data as an integer dtype without any _FillValue to use for NaNs\n",
      "  result.to_netcdf(output_filename)\n",
      "/var/folders/pd/x01_y6d52zj47w6_m5_h_8f80000gr/T/ipykernel_57935/1504723129.py:11: SerializationWarning: saving variable x with floating point data as an integer dtype without any _FillValue to use for NaNs\n",
      "  result.to_netcdf(output_filename)\n"
     ]
    }
   ],
   "source": [
    "output_directory = \"swd_file_clim_diff\"\n",
    "\n",
    "for i, swd_array in enumerate(swd_arrays):\n",
    "    # Subtract the median DataArray\n",
    "    result = swd_array - swd_climatology_pos\n",
    "\n",
    "    # Define an output filename\n",
    "    output_filename = f\"{output_directory}/result_{file_paths[i][24:38]}.nc\"\n",
    "\n",
    "    # Save the result as a NetCDF file\n",
    "    result.to_netcdf(output_filename)\n",
    "\n",
    "    print(f\"Saved: {output_filename}\")"
   ]
  },
  {
   "cell_type": "code",
   "execution_count": 5,
   "metadata": {},
   "outputs": [],
   "source": [
    "input_directory = \"swd_file_clim_diff\"\n",
    "output_directory = \"swd_file_clim_diff/plots\"\n",
    "os.makedirs(output_directory, exist_ok=True)\n",
    "file_paths = [os.path.join(input_directory, f) for f in os.listdir(input_directory) if f.endswith(\".nc\")]"
   ]
  },
  {
   "cell_type": "code",
   "execution_count": 6,
   "metadata": {},
   "outputs": [],
   "source": [
    "#--- US Southwest\n",
    "latitude_north = 40.5\n",
    "latitude_south = 27.5\n",
    "longitude_west = -123\n",
    "longitude_east = -100"
   ]
  },
  {
   "cell_type": "code",
   "execution_count": 7,
   "metadata": {},
   "outputs": [
    {
     "name": "stdout",
     "output_type": "stream",
     "text": [
      "Saved plot: swd_file_clim_diff/plots/result_2024_01_08_21Z.png\n",
      "Saved plot: swd_file_clim_diff/plots/result_2024_01_08_20Z.png\n",
      "Saved plot: swd_file_clim_diff/plots/result_2024_01_08_22Z.png\n",
      "Saved plot: swd_file_clim_diff/plots/result_2024_01_08_23Z.png\n",
      "Saved plot: swd_file_clim_diff/plots/result_2024_01_08_18Z.png\n",
      "Saved plot: swd_file_clim_diff/plots/result_2024_01_08_19Z.png\n",
      "Saved plot: swd_file_clim_diff/plots/result_2024_01_08_14Z.png\n",
      "Saved plot: swd_file_clim_diff/plots/result_2024_01_08_15Z.png\n",
      "Saved plot: swd_file_clim_diff/plots/result_2024_01_08_17Z.png\n",
      "Saved plot: swd_file_clim_diff/plots/result_2024_01_08_16Z.png\n"
     ]
    }
   ],
   "source": [
    "for file_path in file_paths:\n",
    "    # Load the DataArray\n",
    "    swd_result = xr.open_dataarray(file_path)\n",
    "\n",
    "    # Create the plot\n",
    "    projection = ccrs.PlateCarree(central_longitude=0)\n",
    "    fig, ax = plt.subplots(1, figsize=(12, 12), subplot_kw={'projection': projection})\n",
    "\n",
    "    # Define custom colormap and normalization\n",
    "    cmap = LinearSegmentedColormap.from_list('custom_cmap', ['grey', 'white', 'red'])\n",
    "    norm = TwoSlopeNorm(vmin=-12, vcenter=0, vmax=3)\n",
    "    levels = np.linspace(-12, 3, 31)\n",
    "\n",
    "    c = ax.contourf(swd_result.lon, swd_result.lat, swd_result, cmap=cmap, extend='both', norm=norm, levels=levels)\n",
    "\n",
    "    # Add colorbar\n",
    "    clb = plt.colorbar(c, shrink=0.4, pad=0.02, ax=ax)\n",
    "    clb.ax.tick_params(labelsize=15)\n",
    "    clb.set_label('(K)', fontsize=15)\n",
    "\n",
    "    # Set map extent (adjust longitude and latitude bounds as needed)\n",
    "    ax.set_extent([longitude_west, longitude_east, latitude_south, latitude_north], crs=ccrs.PlateCarree())\n",
    "\n",
    "    datetime_str = file_path[24:38]\n",
    "    ax.set_title(\"GOES BTD (12.3 μm - 10.3 μm) \\n(\" + datetime_str + \")\", \n",
    "                 fontsize=20, pad=10)\n",
    "\n",
    "    ax.coastlines(resolution='50m', color='black', linewidth=1)\n",
    "    ax.add_feature(feature.STATES, zorder=100, edgecolor='#000', facecolor='none', linewidth=0.5)\n",
    "\n",
    "    # Save the figure with a dynamic filename\n",
    "    output_filename = os.path.join(output_directory, f\"{os.path.basename(file_path).replace('.nc', '.png')}\")\n",
    "    fig.savefig(output_filename, dpi=200, bbox_inches='tight')\n",
    "\n",
    "    # Close the figure to free memory\n",
    "    plt.close(fig)\n",
    "\n",
    "    print(f\"Saved plot: {output_filename}\")"
   ]
  },
  {
   "cell_type": "code",
   "execution_count": null,
   "metadata": {},
   "outputs": [],
   "source": []
  }
 ],
 "metadata": {
  "kernelspec": {
   "display_name": "FLC",
   "language": "python",
   "name": "python3"
  },
  "language_info": {
   "codemirror_mode": {
    "name": "ipython",
    "version": 3
   },
   "file_extension": ".py",
   "mimetype": "text/x-python",
   "name": "python",
   "nbconvert_exporter": "python",
   "pygments_lexer": "ipython3",
   "version": "3.10.11"
  }
 },
 "nbformat": 4,
 "nbformat_minor": 2
}
