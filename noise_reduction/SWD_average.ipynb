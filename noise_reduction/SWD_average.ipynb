{
 "cells": [
  {
   "cell_type": "code",
   "execution_count": 1,
   "metadata": {},
   "outputs": [],
   "source": [
    "import xarray as xr\n",
    "import numpy as np\n",
    "import matplotlib.pyplot as plt\n",
    "import cartopy.crs as ccrs\n",
    "import cartopy.feature as feature"
   ]
  },
  {
   "cell_type": "code",
   "execution_count": 2,
   "metadata": {},
   "outputs": [],
   "source": [
    "start = \"2025_01_01_00Z\"\n",
    "end = \"2025_01_31_00Z\"\n",
    "\n",
    "file_paths = [\"swd_files/satellite_btd_2025_01_01_00Z.nc\", \n",
    "    \"swd_files/satellite_btd_2025_01_02_00Z.nc\",\n",
    "    \"swd_files/satellite_btd_2025_01_03_00Z.nc\", \n",
    "    \"swd_files/satellite_btd_2025_01_04_00Z.nc\", \n",
    "    \"swd_files/satellite_btd_2025_01_05_00Z.nc\", \n",
    "    \"swd_files/satellite_btd_2025_01_06_00Z.nc\", \n",
    "    \"swd_files/satellite_btd_2025_01_07_00Z.nc\", \n",
    "    \"swd_files/satellite_btd_2025_01_08_00Z.nc\", \n",
    "    \"swd_files/satellite_btd_2025_01_09_00Z.nc\", \n",
    "    \"swd_files/satellite_btd_2025_01_10_00Z.nc\", \n",
    "    ]"
   ]
  },
  {
   "cell_type": "code",
   "execution_count": 3,
   "metadata": {},
   "outputs": [],
   "source": [
    "data_arrays = [xr.open_dataarray(file) for file in file_paths]"
   ]
  },
  {
   "cell_type": "code",
   "execution_count": 4,
   "metadata": {},
   "outputs": [],
   "source": [
    "combined = xr.concat(data_arrays, dim=\"datetime\")"
   ]
  },
  {
   "cell_type": "code",
   "execution_count": 5,
   "metadata": {},
   "outputs": [],
   "source": [
    "median_data = combined.median(dim=\"datetime\")"
   ]
  },
  {
   "cell_type": "code",
   "execution_count": 7,
   "metadata": {},
   "outputs": [],
   "source": [
    "#median_data.to_netcdf(\"swd_climatology_files/\"+start+\"-\"+end+\".nc\")"
   ]
  },
  {
   "cell_type": "code",
   "execution_count": 8,
   "metadata": {},
   "outputs": [],
   "source": [
    "#--- US Southwest\n",
    "latitude_north = 40.5\n",
    "latitude_south = 27.5\n",
    "longitude_west = -123\n",
    "longitude_east = -100"
   ]
  },
  {
   "cell_type": "code",
   "execution_count": 16,
   "metadata": {},
   "outputs": [
    {
     "ename": "AttributeError",
     "evalue": "'DataArray' object has no attribute 'lon'",
     "output_type": "error",
     "traceback": [
      "\u001b[0;31m---------------------------------------------------------------------------\u001b[0m",
      "\u001b[0;31mAttributeError\u001b[0m                            Traceback (most recent call last)",
      "Cell \u001b[0;32mIn[16], line 15\u001b[0m\n\u001b[1;32m     11\u001b[0m norm \u001b[38;5;241m=\u001b[39m TwoSlopeNorm(vmin\u001b[38;5;241m=\u001b[39m\u001b[38;5;241m-\u001b[39m\u001b[38;5;241m12\u001b[39m, vcenter\u001b[38;5;241m=\u001b[39m\u001b[38;5;241m0\u001b[39m, vmax\u001b[38;5;241m=\u001b[39m\u001b[38;5;241m3\u001b[39m)\n\u001b[1;32m     13\u001b[0m levels \u001b[38;5;241m=\u001b[39m np\u001b[38;5;241m.\u001b[39mlinspace(\u001b[38;5;241m-\u001b[39m\u001b[38;5;241m12\u001b[39m, \u001b[38;5;241m3\u001b[39m, \u001b[38;5;241m31\u001b[39m)\n\u001b[0;32m---> 15\u001b[0m c\u001b[38;5;241m=\u001b[39max\u001b[38;5;241m.\u001b[39mcontourf(\u001b[43mmedian_data\u001b[49m\u001b[38;5;241;43m.\u001b[39;49m\u001b[43mlon\u001b[49m, median_data\u001b[38;5;241m.\u001b[39mlat, median_data, cmap\u001b[38;5;241m=\u001b[39mcmap, extend\u001b[38;5;241m=\u001b[39m\u001b[38;5;124m'\u001b[39m\u001b[38;5;124mboth\u001b[39m\u001b[38;5;124m'\u001b[39m, norm\u001b[38;5;241m=\u001b[39mnorm, levels\u001b[38;5;241m=\u001b[39mlevels)\n\u001b[1;32m     18\u001b[0m clb \u001b[38;5;241m=\u001b[39m plt\u001b[38;5;241m.\u001b[39mcolorbar(c, shrink\u001b[38;5;241m=\u001b[39m\u001b[38;5;241m0.4\u001b[39m, pad\u001b[38;5;241m=\u001b[39m\u001b[38;5;241m0.02\u001b[39m, ax\u001b[38;5;241m=\u001b[39max)\n\u001b[1;32m     19\u001b[0m clb\u001b[38;5;241m.\u001b[39max\u001b[38;5;241m.\u001b[39mtick_params(labelsize\u001b[38;5;241m=\u001b[39m\u001b[38;5;241m15\u001b[39m)\n",
      "File \u001b[0;32m~/miniconda3/envs/FLC_paper/lib/python3.12/site-packages/xarray/core/common.py:286\u001b[0m, in \u001b[0;36mAttrAccessMixin.__getattr__\u001b[0;34m(self, name)\u001b[0m\n\u001b[1;32m    284\u001b[0m         \u001b[38;5;28;01mwith\u001b[39;00m suppress(\u001b[38;5;167;01mKeyError\u001b[39;00m):\n\u001b[1;32m    285\u001b[0m             \u001b[38;5;28;01mreturn\u001b[39;00m source[name]\n\u001b[0;32m--> 286\u001b[0m \u001b[38;5;28;01mraise\u001b[39;00m \u001b[38;5;167;01mAttributeError\u001b[39;00m(\n\u001b[1;32m    287\u001b[0m     \u001b[38;5;124mf\u001b[39m\u001b[38;5;124m\"\u001b[39m\u001b[38;5;132;01m{\u001b[39;00m\u001b[38;5;28mtype\u001b[39m(\u001b[38;5;28mself\u001b[39m)\u001b[38;5;241m.\u001b[39m\u001b[38;5;18m__name__\u001b[39m\u001b[38;5;132;01m!r}\u001b[39;00m\u001b[38;5;124m object has no attribute \u001b[39m\u001b[38;5;132;01m{\u001b[39;00mname\u001b[38;5;132;01m!r}\u001b[39;00m\u001b[38;5;124m\"\u001b[39m\n\u001b[1;32m    288\u001b[0m )\n",
      "\u001b[0;31mAttributeError\u001b[0m: 'DataArray' object has no attribute 'lon'"
     ]
    },
    {
     "data": {
      "image/png": "[encoded data removed]",
      "text/plain": [
       "<Figure size 1200x1200 with 1 Axes>"
      ]
     },
     "metadata": {},
     "output_type": "display_data"
    }
   ],
   "source": [
    "projection=ccrs.PlateCarree(central_longitude=0)\n",
    "\n",
    "fig,ax=plt.subplots(1, figsize=(12,12),subplot_kw={'projection': projection})\n",
    "\n",
    "#---Custom colorbar\n",
    "from matplotlib.colors import LinearSegmentedColormap, TwoSlopeNorm\n",
    "\n",
    "# Define custom colormap: Greys for negative, Reds for positive\n",
    "cmap = LinearSegmentedColormap.from_list('custom_cmap', ['grey', 'white', 'red'])\n",
    "# Use TwoSlopeNorm to center at 0\n",
    "norm = TwoSlopeNorm(vmin=-12, vcenter=0, vmax=3)\n",
    "\n",
    "levels = np.linspace(-12, 3, 31)\n",
    "\n",
    "c=ax.contourf(median_data.lon, median_data.lat, median_data, cmap=cmap, extend='both', norm=norm, levels=levels)\n",
    "\n",
    "\n",
    "clb = plt.colorbar(c, shrink=0.4, pad=0.02, ax=ax)\n",
    "clb.ax.tick_params(labelsize=15)\n",
    "clb.set_label('(K)', fontsize=15)\n",
    "\n",
    "ax.set_extent([longitude_west, longitude_east, latitude_south, latitude_north], crs=ccrs.PlateCarree())\n",
    "\n",
    "ax.set_title(\"GOES BTD (12.3 μm - 10.3 μm) Climatology\\n(\"+start+\" - \"+end+\")\", fontsize=20, pad=10)\n",
    "ax.coastlines(resolution='50m', color='black', linewidth=1)\n",
    "ax.add_feature(feature.STATES, zorder=100, edgecolor='#000', facecolor='none', linewidth=0.5)\n",
    "\n",
    "#fig.savefig(\"swd_climatology_images/\"+start+\"-\"+end, dpi=200, bbox_inches='tight')\n",
    "fig.show()"
   ]
  },
  {
   "cell_type": "code",
   "execution_count": null,
   "metadata": {},
   "outputs": [],
   "source": []
  }
 ],
 "metadata": {
  "kernelspec": {
   "display_name": "FLC",
   "language": "python",
   "name": "python3"
  },
  "language_info": {
   "codemirror_mode": {
    "name": "ipython",
    "version": 3
   },
   "file_extension": ".py",
   "mimetype": "text/x-python",
   "name": "python",
   "nbconvert_exporter": "python",
   "pygments_lexer": "ipython3",
   "version": "3.12.0"
  }
 },
 "nbformat": 4,
 "nbformat_minor": 2
}
