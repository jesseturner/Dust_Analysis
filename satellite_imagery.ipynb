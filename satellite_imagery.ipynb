{
 "cells": [
  {
   "cell_type": "markdown",
   "metadata": {},
   "source": [
    "# Satellite images of dust (split-window difference)"
   ]
  },
  {
   "cell_type": "markdown",
   "metadata": {},
   "source": [
    "**Libraries needed:**"
   ]
  },
  {
   "cell_type": "code",
   "execution_count": 1,
   "metadata": {},
   "outputs": [
    {
     "ename": "ModuleNotFoundError",
     "evalue": "No module named 'matplotlib.pyplot'",
     "output_type": "error",
     "traceback": [
      "\u001b[0;31m---------------------------------------------------------------------------\u001b[0m",
      "\u001b[0;31mModuleNotFoundError\u001b[0m                       Traceback (most recent call last)",
      "Cell \u001b[0;32mIn[1], line 10\u001b[0m\n\u001b[1;32m      8\u001b[0m \u001b[38;5;28;01mimport\u001b[39;00m \u001b[38;5;21;01mxarray\u001b[39;00m \u001b[38;5;28;01mas\u001b[39;00m \u001b[38;5;21;01mxr\u001b[39;00m\n\u001b[1;32m      9\u001b[0m \u001b[38;5;28;01mimport\u001b[39;00m \u001b[38;5;21;01mnetCDF4\u001b[39;00m\n\u001b[0;32m---> 10\u001b[0m \u001b[38;5;28;01mimport\u001b[39;00m \u001b[38;5;21;01mmatplotlib\u001b[39;00m\u001b[38;5;21;01m.\u001b[39;00m\u001b[38;5;21;01mpyplot\u001b[39;00m \u001b[38;5;28;01mas\u001b[39;00m \u001b[38;5;21;01mplt\u001b[39;00m\n\u001b[1;32m     11\u001b[0m \u001b[38;5;28;01mimport\u001b[39;00m \u001b[38;5;21;01mnumpy\u001b[39;00m \u001b[38;5;28;01mas\u001b[39;00m \u001b[38;5;21;01mnp\u001b[39;00m\n\u001b[1;32m     12\u001b[0m \u001b[38;5;28;01mimport\u001b[39;00m \u001b[38;5;21;01mcartopy\u001b[39;00m\u001b[38;5;21;01m.\u001b[39;00m\u001b[38;5;21;01mcrs\u001b[39;00m \u001b[38;5;28;01mas\u001b[39;00m \u001b[38;5;21;01mccrs\u001b[39;00m\n",
      "\u001b[0;31mModuleNotFoundError\u001b[0m: No module named 'matplotlib.pyplot'"
     ]
    }
   ],
   "source": [
    "#---Cloud search libraries\n",
    "import s3fs #---The installation of this package on conda makes me nervous for the environment stability\n",
    "import requests\n",
    "import fnmatch\n",
    "\n",
    "#---Accessory libraries\n",
    "import datetime\n",
    "import xarray as xr\n",
    "import netCDF4\n",
    "import matplotlib.pyplot as plt\n",
    "import numpy as np\n",
    "import cartopy.crs as ccrs\n",
    "import cartopy.feature as feature"
   ]
  },
  {
   "cell_type": "markdown",
   "metadata": {},
   "source": [
    "**Set the datetime to view:**"
   ]
  },
  {
   "cell_type": "code",
   "execution_count": null,
   "metadata": {},
   "outputs": [
    {
     "name": "stdout",
     "output_type": "stream",
     "text": [
      "237\n",
      "2024-08-24 12Z\n"
     ]
    }
   ],
   "source": [
    "year = 2024\n",
    "month = 8\n",
    "day = 24\n",
    "hour = 12\n",
    "\n",
    "julian_day = datetime.datetime(year, month, day).strftime('%j')\n",
    "print(julian_day)\n",
    "\n",
    "datetime_str = str(year)+'-'+str(month).zfill(2)+'-'+str(day).zfill(2)+' '+str(hour).zfill(2)+'Z'\n",
    "print(datetime_str)"
   ]
  },
  {
   "cell_type": "markdown",
   "metadata": {},
   "source": [
    "**Select region for visualization:**"
   ]
  },
  {
   "cell_type": "code",
   "execution_count": 4,
   "metadata": {},
   "outputs": [],
   "source": [
    "#--- US Southwest\n",
    "latitude_north = 40.5\n",
    "latitude_south = 27.5\n",
    "longitude_west = -123\n",
    "longitude_east = -100"
   ]
  },
  {
   "cell_type": "markdown",
   "metadata": {},
   "source": [
    "**Connecting to AWS remote storage:**"
   ]
  },
  {
   "cell_type": "code",
   "execution_count": 5,
   "metadata": {},
   "outputs": [],
   "source": [
    "fs = s3fs.S3FileSystem(anon=True)"
   ]
  },
  {
   "cell_type": "markdown",
   "metadata": {},
   "source": [
    "**Search the AWS database:**"
   ]
  },
  {
   "cell_type": "markdown",
   "metadata": {},
   "source": [
    "Split-window difference = 10.3um - 12.3um"
   ]
  },
  {
   "cell_type": "code",
   "execution_count": 9,
   "metadata": {},
   "outputs": [],
   "source": [
    "bucket = 'noaa-goes16'\n",
    "product = 'ABI-L1b-RadF' #---Full disk ABI radiance\n",
    "\n",
    "band_13 = '13' #--- 10.3 um\n",
    "band_15 = '15' #--- 12.3 um\n",
    "\n",
    "#---Add band selection here (C**)\n",
    "\n",
    "data_path = bucket + '/' + product + '/'  + str(year) + '/' + julian_day + '/' + str(hour).zfill(2)\n",
    "\n",
    "files = fs.ls(data_path)\n",
    "\n",
    "files_band_15 = [file for file in files if fnmatch.fnmatch(file.split('/')[-1], 'OR_ABI-L1b-RadF-M6C' + band_15 + '*')]\n",
    "files_band_13 = [file for file in files if fnmatch.fnmatch(file.split('/')[-1], 'OR_ABI-L1b-RadF-M6C' + band_13 + '*')]"
   ]
  },
  {
   "cell_type": "code",
   "execution_count": 12,
   "metadata": {},
   "outputs": [
    {
     "name": "stdout",
     "output_type": "stream",
     "text": [
      "noaa-goes16/ABI-L1b-RadF/2024/237/12/OR_ABI-L1b-RadF-M6C15_G16_s20242371200205_e20242371209519_c20242371209567.nc\n"
     ]
    }
   ],
   "source": [
    "file_15 = files_band_15[0] #---first is the top-of-the-hour\n",
    "file_13 = files_band_13[0]\n",
    "\n",
    "print(file_15)"
   ]
  },
  {
   "cell_type": "code",
   "execution_count": 13,
   "metadata": {},
   "outputs": [],
   "source": [
    "resp_15 = requests.get(f'https://'+bucket+'.s3.amazonaws.com/'+file_15[12:])\n",
    "if str(resp_15) != '<Response [200]>':\n",
    "    print('b15 file not found in AWS servers')\n",
    "\n",
    "resp_13 = requests.get(f'https://'+bucket+'.s3.amazonaws.com/'+file_13[12:])\n",
    "if str(resp_13) != '<Response [200]>':\n",
    "    print('b13 file not found in AWS servers')"
   ]
  },
  {
   "cell_type": "markdown",
   "metadata": {},
   "source": [
    "**Open the satellite data:**"
   ]
  },
  {
   "cell_type": "code",
   "execution_count": 15,
   "metadata": {},
   "outputs": [],
   "source": [
    "nc_15 = netCDF4.Dataset(file_15, memory = resp_15.content)\n",
    "ds_15 = xr.open_dataset(xr.backends.NetCDF4DataStore(nc_15))\n",
    "\n",
    "nc_13 = netCDF4.Dataset(file_13, memory = resp_13.content)\n",
    "ds_13 = xr.open_dataset(xr.backends.NetCDF4DataStore(nc_13))"
   ]
  },
  {
   "cell_type": "markdown",
   "metadata": {},
   "source": [
    "**Get the latitudes and longitudes for the satellite image:**"
   ]
  },
  {
   "cell_type": "code",
   "execution_count": 16,
   "metadata": {},
   "outputs": [],
   "source": [
    "def calc_latlon(ds):\n",
    "    # The math for this function was taken from \n",
    "    # https://makersportal.com/blog/2018/11/25/goes-r-satellite-latitude-and-longitude-grid-projection-algorithm\n",
    "    x = ds.x\n",
    "    y = ds.y\n",
    "    goes_imager_projection = ds.goes_imager_projection\n",
    "    \n",
    "    x,y = np.meshgrid(x,y)\n",
    "    \n",
    "    r_eq = goes_imager_projection.attrs[\"semi_major_axis\"]\n",
    "    r_pol = goes_imager_projection.attrs[\"semi_minor_axis\"]\n",
    "    l_0 = goes_imager_projection.attrs[\"longitude_of_projection_origin\"] * (np.pi/180)\n",
    "    h_sat = goes_imager_projection.attrs[\"perspective_point_height\"]\n",
    "    H = r_eq + h_sat\n",
    "    \n",
    "    a = np.sin(x)**2 + (np.cos(x)**2 * (np.cos(y)**2 + (r_eq**2 / r_pol**2) * np.sin(y)**2))\n",
    "    b = -2 * H * np.cos(x) * np.cos(y)\n",
    "    c = H**2 - r_eq**2\n",
    "    \n",
    "    #--- Added absolute to remove error\n",
    "    r_s = (-b - np.sqrt(np.absolute(b**2 - 4*a*c)))/(2*a)\n",
    "    \n",
    "    s_x = r_s * np.cos(x) * np.cos(y)\n",
    "    s_y = -r_s * np.sin(x)\n",
    "    s_z = r_s * np.cos(x) * np.sin(y)\n",
    "    \n",
    "    lat = np.arctan((r_eq**2 / r_pol**2) * (s_z / np.sqrt((H-s_x)**2 +s_y**2))) * (180/np.pi)\n",
    "    lon = (l_0 - np.arctan(s_y / (H-s_x))) * (180/np.pi)\n",
    "    \n",
    "    ds = ds.assign_coords({\n",
    "        \"lat\":([\"y\",\"x\"],lat),\n",
    "        \"lon\":([\"y\",\"x\"],lon)\n",
    "    })\n",
    "    ds.lat.attrs[\"units\"] = \"degrees_north\"\n",
    "    ds.lon.attrs[\"units\"] = \"degrees_east\"\n",
    "    return ds\n",
    "\n",
    "\n",
    "\n",
    "def get_xy_from_latlon(ds, lats, lons):\n",
    "    lat1, lat2 = lats\n",
    "    lon1, lon2 = lons\n",
    "\n",
    "    lat = ds.lat.data\n",
    "    lon = ds.lon.data\n",
    "    \n",
    "    x = ds.x.data\n",
    "    y = ds.y.data\n",
    "    \n",
    "    x,y = np.meshgrid(x,y)\n",
    "    \n",
    "    x = x[(lat >= lat1) & (lat <= lat2) & (lon >= lon1) & (lon <= lon2)]\n",
    "    y = y[(lat >= lat1) & (lat <= lat2) & (lon >= lon1) & (lon <= lon2)] \n",
    "    \n",
    "    return ((min(x), max(x)), (min(y), max(y)))"
   ]
  },
  {
   "cell_type": "code",
   "execution_count": null,
   "metadata": {},
   "outputs": [
    {
     "ename": "NameError",
     "evalue": "name 'np' is not defined",
     "output_type": "error",
     "traceback": [
      "\u001b[0;31m---------------------------------------------------------------------------\u001b[0m",
      "\u001b[0;31mNameError\u001b[0m                                 Traceback (most recent call last)",
      "Cell \u001b[0;32mIn[17], line 1\u001b[0m\n\u001b[0;32m----> 1\u001b[0m ds_lat_lon \u001b[38;5;241m=\u001b[39m \u001b[43mcalc_latlon\u001b[49m\u001b[43m(\u001b[49m\u001b[43mds_15\u001b[49m\u001b[43m)\u001b[49m\n\u001b[1;32m      3\u001b[0m \u001b[38;5;66;03m#---This is needed to convert the lat/lon range into the x/y dimensions\u001b[39;00m\n\u001b[1;32m      4\u001b[0m \u001b[38;5;66;03m#------The dataset will only filter by the official dimensions\u001b[39;00m\n\u001b[1;32m      5\u001b[0m ((x1,x2), (y1, y2)) \u001b[38;5;241m=\u001b[39m get_xy_from_latlon(ds_lat_lon, (latitude_south, latitude_north), (longitude_west, longitude_east))\n",
      "Cell \u001b[0;32mIn[16], line 8\u001b[0m, in \u001b[0;36mcalc_latlon\u001b[0;34m(ds)\u001b[0m\n\u001b[1;32m      5\u001b[0m y \u001b[38;5;241m=\u001b[39m ds\u001b[38;5;241m.\u001b[39my\n\u001b[1;32m      6\u001b[0m goes_imager_projection \u001b[38;5;241m=\u001b[39m ds\u001b[38;5;241m.\u001b[39mgoes_imager_projection\n\u001b[0;32m----> 8\u001b[0m x,y \u001b[38;5;241m=\u001b[39m \u001b[43mnp\u001b[49m\u001b[38;5;241m.\u001b[39mmeshgrid(x,y)\n\u001b[1;32m     10\u001b[0m r_eq \u001b[38;5;241m=\u001b[39m goes_imager_projection\u001b[38;5;241m.\u001b[39mattrs[\u001b[38;5;124m\"\u001b[39m\u001b[38;5;124msemi_major_axis\u001b[39m\u001b[38;5;124m\"\u001b[39m]\n\u001b[1;32m     11\u001b[0m r_pol \u001b[38;5;241m=\u001b[39m goes_imager_projection\u001b[38;5;241m.\u001b[39mattrs[\u001b[38;5;124m\"\u001b[39m\u001b[38;5;124msemi_minor_axis\u001b[39m\u001b[38;5;124m\"\u001b[39m]\n",
      "\u001b[0;31mNameError\u001b[0m: name 'np' is not defined"
     ]
    }
   ],
   "source": [
    "ds_lat_lon_1 = calc_latlon(ds_1)\n",
    "((x1,x2), (y1, y2)) = get_xy_from_latlon(ds_lat_lon_1, (latitude_south, latitude_north), (longitude_west, longitude_east))\n",
    "region_1 = ds_lat_lon_1.sel(x=slice(x1, x2), y=slice(y2, y1))\n",
    "\n",
    "ds_lat_lon_2 = calc_latlon(ds_2)\n",
    "region_2 = ds_lat_lon_2.sel(x=slice(x1, x2), y=slice(y2, y1))\n"
   ]
  },
  {
   "cell_type": "markdown",
   "metadata": {},
   "source": [
    "**Convert radiance to brightness temperature:**\n",
    "\n",
    "* Satellite data has the conversion constants in the metadata"
   ]
  },
  {
   "cell_type": "code",
   "execution_count": null,
   "metadata": {},
   "outputs": [],
   "source": [
    "wl_1 = round(region_1.band_wavelength.values[0],1)\n",
    "wl_2 = round(region_2.band_wavelength.values[0],1)\n",
    "\n",
    "Tb_1 = (region_1.planck_fk2/(np.log((region_1.planck_fk1/region_1.Rad)+1)) - region_1.planck_bc1)/region_1.planck_bc2\n",
    "Tb_2 = (region_2.planck_fk2/(np.log((region_2.planck_fk1/region_2.Rad)+1)) - region_2.planck_bc1)/region_2.planck_bc2"
   ]
  },
  {
   "cell_type": "markdown",
   "metadata": {},
   "source": [
    "**Create the strings for the save file:**"
   ]
  },
  {
   "cell_type": "code",
   "execution_count": null,
   "metadata": {},
   "outputs": [],
   "source": [
    "date_str = str(datetime_str).replace('-', '_').replace(' ', '_')"
   ]
  },
  {
   "cell_type": "markdown",
   "metadata": {},
   "source": [
    "**Plot the brightness-temperature difference:**"
   ]
  },
  {
   "cell_type": "code",
   "execution_count": null,
   "metadata": {},
   "outputs": [],
   "source": [
    "\n",
    "BTD = Tb_1 - Tb_2\n",
    "\n",
    "projection=ccrs.PlateCarree(central_longitude=0)\n",
    "\n",
    "fig,ax=plt.subplots(1, figsize=(12,12),subplot_kw={'projection': projection})\n",
    "\n",
    "#---Custom colorbar\n",
    "from matplotlib.colors import LinearSegmentedColormap\n",
    "colors = [(0, '#A9A9A9'), (0.5, 'white'), (1, '#1167b1')]  # +3 = blueish teal, 0 = white, -3 = grey\n",
    "cmap = LinearSegmentedColormap.from_list('custom_cmap', colors)\n",
    "\n",
    "#---Optional: Set large negative to another color to try to identify overriding cirrus\n",
    "#cmap.set_under('#DABC94')\n",
    "\n",
    "#levels = np.linspace(-3, 3, 31)\n",
    "\n",
    "c=ax.contourf(BTD.lon, BTD.lat, BTD, cmap=cmap, extend='both')#, levels=levels)\n",
    "\n",
    "\n",
    "clb = plt.colorbar(c, shrink=0.4, pad=0.02, ax=ax)\n",
    "clb.ax.tick_params(labelsize=15)\n",
    "clb.set_label('(K)', fontsize=15)\n",
    "\n",
    "#--- Remove for full-scan\n",
    "ax.set_extent([longitude_west, longitude_east, latitude_south, latitude_north], crs=ccrs.PlateCarree())\n",
    "#ax.set_extent([-180, 180, -90, 90], crs=ccrs.PlateCarree())\n",
    "\n",
    "ax.set_title(\"GOES BTD (\"+ str(wl_1) +\" μm - \" + str(wl_2) +\" μm) \\n(\"+datetime_str+\")\", fontsize=20, pad=10)\n",
    "ax.coastlines(resolution='50m', color='black', linewidth=1)\n",
    "#ax.add_feature(feature.LAND, zorder=100, edgecolor='#000', facecolor='#000')\n",
    "\n",
    "fig.set_dpi(200)\n",
    "fig.savefig(\"georgesbank_animation/satellite_btd_\"+date_str, dpi=200, bbox_inches='tight')\n",
    "fig.show()"
   ]
  }
 ],
 "metadata": {
  "kernelspec": {
   "display_name": "flc_local",
   "language": "python",
   "name": "python3"
  },
  "language_info": {
   "codemirror_mode": {
    "name": "ipython",
    "version": 3
   },
   "file_extension": ".py",
   "mimetype": "text/x-python",
   "name": "python",
   "nbconvert_exporter": "python",
   "pygments_lexer": "ipython3",
   "version": "3.12.3"
  }
 },
 "nbformat": 4,
 "nbformat_minor": 2
}
